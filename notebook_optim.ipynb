{
 "cells": [
  {
   "cell_type": "markdown",
   "id": "70567adb-edbe-4ecb-9c4c-a3052c8d0f63",
   "metadata": {},
   "source": [
    "# PROJET D'OPTIMISATION - GRP 4 "
   ]
  },
  {
   "cell_type": "markdown",
   "id": "45f703d4-a1d0-46f9-8464-5d4d46674968",
   "metadata": {},
   "source": [
    "## Récupération de données "
   ]
  },
  {
   "cell_type": "markdown",
   "id": "8139d006-d7ff-474d-9ffa-587dab69a6e1",
   "metadata": {},
   "source": [
    "### Question 1"
   ]
  },
  {
   "cell_type": "code",
   "execution_count": null,
   "id": "50bbdd0c-0897-442d-92e9-f3786e0a0cf9",
   "metadata": {},
   "outputs": [],
   "source": []
  }
 ],
 "metadata": {
  "kernelspec": {
   "display_name": "Python 3 (ipykernel)",
   "language": "python",
   "name": "python3"
  },
  "language_info": {
   "codemirror_mode": {
    "name": "ipython",
    "version": 3
   },
   "file_extension": ".py",
   "mimetype": "text/x-python",
   "name": "python",
   "nbconvert_exporter": "python",
   "pygments_lexer": "ipython3",
   "version": "3.12.4"
  }
 },
 "nbformat": 4,
 "nbformat_minor": 5
}
