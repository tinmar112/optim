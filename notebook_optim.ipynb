{
 "cells": [
  {
   "cell_type": "markdown",
   "id": "70567adb-edbe-4ecb-9c4c-a3052c8d0f63",
   "metadata": {},
   "source": [
    "# PROJET D'OPTIMISATION - GRP 4 "
   ]
  },
  {
   "cell_type": "markdown",
   "id": "45f703d4-a1d0-46f9-8464-5d4d46674968",
   "metadata": {},
   "source": [
    "## Récupération de données "
   ]
  },
  {
   "cell_type": "code",
<<<<<<< HEAD
   "execution_count": 1,
   "id": "08cece5f",
=======
   "execution_count": null,
   "id": "9578c417",
>>>>>>> 7fde51ac0ba0cfff60f3ec3aefd4d1b589e6fd18
   "metadata": {},
   "outputs": [],
   "source": [
    "import numpy as np\n",
    "import matplotlib.pyplot as plt"
   ]
  },
  {
   "cell_type": "markdown",
   "id": "8139d006-d7ff-474d-9ffa-587dab69a6e1",
   "metadata": {},
   "source": [
    "### Question 1"
   ]
  },
  {
   "cell_type": "code",
   "execution_count": null,
   "id": "50bbdd0c-0897-442d-92e9-f3786e0a0cf9",
   "metadata": {},
   "outputs": [],
   "source": []
  },
  {
   "cell_type": "markdown",
<<<<<<< HEAD
   "id": "f4de678e",
=======
   "id": "5c6c1b20",
>>>>>>> 7fde51ac0ba0cfff60f3ec3aefd4d1b589e6fd18
   "metadata": {},
   "source": [
    "### Question 4"
   ]
  },
  {
<<<<<<< HEAD
   "cell_type": "markdown",
   "id": "4f1237ff",
   "metadata": {},
   "source": []
  },
  {
   "cell_type": "code",
   "execution_count": null,
   "id": "95c3159f",
   "metadata": {},
   "outputs": [],
   "source": [
    "n, m = 5, 4\n",
    "v = np.random.rand(n, m, 2)\n",
    "\n",
    "def div(v): #v vecteur de taille n x m x 2 \n",
    "    v_x = v[0]\n",
    "    v_y = v[1]\n",
    "    div = np.zeros(n,m)\n",
    "    #gestion selon x \n",
    "    div[0,:] += v_x[1,:]\n",
    "    div[n-1,:] += -v_x[n,:]\n",
    "    div[1:n-2,:] += (v_x[1:n-2,:] - v_x[0:n-3,:])\n",
    "    \n",
    "    #gestion selon y \n",
    "    div[:, 0] += v_y[:, 0]\n",
    "    div[:, m-1] += v_y[:, m-1]\n",
    "    div[:, 1:m-2] += (v_y[:,1:m-2] - v_y[:,0:n-3])\n",
    "    \n",
    "    return div\n"
   ]
  },
  {
   "cell_type": "markdown",
   "id": "2206541e",
   "metadata": {},
   "source": [
    "### "
=======
   "cell_type": "code",
   "execution_count": null,
   "id": "6194ef8b",
   "metadata": {},
   "outputs": [],
   "source": [
    "def grad(u):\n",
    "    \"\"\"Returns the discrete gradient of matrix u.\"\"\"\n",
    "    (n,m) = u.shape\n",
    "    \n",
    "    #grad_x\n",
    "    grad_x = u[1:n-1,:]-u[0:n-2,:]\n",
    "    grad_x = np.append(grad_x,np.zeros((1,m),dtype=float),axis=0) # zeros for line i=n\n",
    "\n",
    "    #grad_y\n",
    "    grad_y = u[:,1:m-1]-u[:,0:m-2]\n",
    "    grad_y = np.append(grad_y,np.zeros((n,1),dtype=float),axis=1) # zeros for column j=m\n",
    "\n",
    "    return(grad_x, grad_y)"
>>>>>>> 7fde51ac0ba0cfff60f3ec3aefd4d1b589e6fd18
   ]
  }
 ],
 "metadata": {
  "kernelspec": {
   "display_name": "base",
   "language": "python",
   "name": "python3"
  },
  "language_info": {
   "codemirror_mode": {
    "name": "ipython",
    "version": 3
   },
   "file_extension": ".py",
   "mimetype": "text/x-python",
   "name": "python",
   "nbconvert_exporter": "python",
   "pygments_lexer": "ipython3",
   "version": "3.12.4"
  }
 },
 "nbformat": 4,
 "nbformat_minor": 5
}
